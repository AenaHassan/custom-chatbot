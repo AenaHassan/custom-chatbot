{
  "cells": [
    {
      "cell_type": "markdown",
      "source": [
        "#Chatbot with LangChain"
      ],
      "metadata": {
        "id": "ui-0e54JoSt7"
      }
    },
    {
      "cell_type": "code",
      "source": [],
      "metadata": {
        "id": "yYgHa3EToaKR"
      },
      "execution_count": null,
      "outputs": []
    }
  ],
  "metadata": {
    "colab": {
      "provenance": []
    }
  },
  "nbformat": 4,
  "nbformat_minor": 0
}